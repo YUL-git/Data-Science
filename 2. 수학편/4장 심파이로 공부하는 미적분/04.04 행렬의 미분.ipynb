{
 "cells": [
  {
   "cell_type": "markdown",
   "metadata": {
    "school_cell_uuid": "25133b138da044cea805a5fe6263357f"
   },
   "source": [
    "## 4.4 행렬의 미분"
   ]
  },
  {
   "cell_type": "markdown",
   "metadata": {},
   "source": [
    "지금까지는 스칼라값을 입력으로 받아 스칼라값을 출력하는 함수를 생각했다. 이제부터는 벡터나 행렬을 입력으로 받아서 벡터나 행렬을 출력하는 함수를 살펴본다.\n",
    "\n",
    "여러개의 입력을 가지는 다변수 함수는 함수의 독립변수가 벡터인 경우로 볼 수 있다.\n",
    "\n",
    "$$\n",
    "\\begin{align}\n",
    "f\\left( \\begin{bmatrix} x_1 \\\\ x_2 \\end{bmatrix} \\right) = f(x) = f(x_1, x_2)\n",
    "\\tag{4.4.1}\n",
    "\\end{align}\n",
    "$$\n",
    "\n",
    "$$\n",
    "\\begin{align}\n",
    "\\text{vector } x \\;\\; \\rightarrow \\;\\; \\text{scalar } f\n",
    "\\tag{4.4.2}\n",
    "\\end{align}\n",
    "$$\n",
    "\n",
    "이를 확장하면 행렬을 입력으로 가지는 함수도 생각할 수 있다.\n",
    "\n",
    "$$ \n",
    "\\begin{align}\n",
    "f\\left( \\begin{bmatrix} x_{11} & x_{12} \\\\ x_{21} & x_{22} \\end{bmatrix} \\right) \n",
    "= f(X) = f(x_{11}, \\cdots, x_{22})\n",
    "\\tag{4.4.3}\n",
    "\\end{align}\n",
    "$$\n",
    "\n",
    "$$\n",
    "\\begin{align}\n",
    "\\text{matrix } x \\;\\; \\rightarrow \\;\\; \\text{scalar } f\n",
    "\\tag{4.4.4}\n",
    "\\end{align}\n",
    "$$\n",
    "\n",
    "반대로 벡터나 행렬을 출력하는 함수는 여러개의 함수를 합쳐놓은 것이다.\n",
    "\n",
    "\n",
    "$$ \n",
    "\\begin{align}\n",
    "f(x) =\n",
    "\\begin{bmatrix}\n",
    "f_1(x) \\\\\n",
    "f_2(x)\n",
    "\\end{bmatrix}\n",
    "\\tag{4.4.5}\n",
    "\\end{align}\n",
    "$$\n",
    "\n",
    "$$\n",
    "\\begin{align}\n",
    "\\text{scalar } x \\;\\; \\rightarrow \\;\\; \\text{vector } f\n",
    "\\tag{4.4.6}\n",
    "\\end{align}\n",
    "$$\n",
    "\n",
    "$$ \n",
    "\\begin{align}\n",
    "f(x) =\n",
    "\\begin{bmatrix}\n",
    "f_{11}(x) & f_{12}(x) \\\\\n",
    "f_{21}(x) & f_{22}(x)\n",
    "\\end{bmatrix}\n",
    "\\tag{4.4.7}\n",
    "\\end{align}\n",
    "$$\n",
    "\n",
    "$$\n",
    "\\begin{align}\n",
    "\\text{scalar } x \\;\\; \\rightarrow \\;\\; \\text{matrix } f\n",
    "\\tag{4.4.8}\n",
    "\\end{align}\n",
    "$$\n",
    "\n",
    "벡터나 행렬을 입력받아 벡터나 행렬을 출력할 수도 있다.\n",
    "\n",
    "$$ \n",
    "\\begin{align}\n",
    "f(x) =\n",
    "\\begin{bmatrix}\n",
    "f_1(x_1, x_2) \\\\\n",
    "f_2(x_1, x_2)\n",
    "\\end{bmatrix}\n",
    "\\tag{4.4.9}\n",
    "\\end{align}\n",
    "$$\n",
    "\n",
    "$$\n",
    "\\begin{align}\n",
    "\\text{vector } x \\;\\; \\rightarrow \\;\\; \\text{vector } f\n",
    "\\tag{4.4.10}\n",
    "\\end{align}\n",
    "$$\n",
    "\n",
    "$$ \n",
    "\\begin{align}\n",
    "f(x) =\n",
    "\\begin{bmatrix}\n",
    "f_{11}(x_1, x_2) & f_{12}(x_1, x_2) \\\\\n",
    "f_{21}(x_1, x_2) & f_{22}(x_1, x_2)\n",
    "\\end{bmatrix}\n",
    "\\tag{4.4.11}\n",
    "\\end{align}\n",
    "$$\n",
    "\n",
    "$$\n",
    "\\begin{align}\n",
    "\\text{vector } x \\;\\; \\rightarrow \\;\\; \\text{matrix } f\n",
    "\\tag{4.4.12}\n",
    "\\end{align}\n",
    "$$"
   ]
  },
  {
   "cell_type": "markdown",
   "metadata": {
    "school_cell_uuid": "82da950a4ad94bf4b5fcc62eb371ba2f"
   },
   "source": [
    "이러한 행렬을 입력이나 출력으로 가지는 함수를 미분하는 것을 **행렬미분(matrix differentiation)**이라고 한다. 사실 행렬미분은 정확하게는 미분이 아닌 편미분(partial derivative)이지만 여기에서는 편의상 미분이라고 쓰겠다. 또한 행렬미분에는 분자중심 표현법(Numerator-layout notation)과 분모중심 표현법(Denominator-layout notation) 두 가지가 있는데 여기에서는 분모중심 표현법으로 서술한다."
   ]
  },
  {
   "cell_type": "markdown",
   "metadata": {
    "school_cell_uuid": "511fc1c854704e19ad1f7c557eb274d7"
   },
   "source": [
    "### 스칼라를 벡터로 미분하는 경우"
   ]
  },
  {
   "cell_type": "markdown",
   "metadata": {
    "school_cell_uuid": "e63c9a2e716943e491dae967a2f70db0"
   },
   "source": [
    "데이터 분석에서는 함수의 출력변수가 스칼라이고 입력변수 $x$가 벡터인 다변수 함수를 사용하는 경우가 많다. 따라서 편미분도 $\\frac{\\partial f}{\\partial x_1}, \\frac{\\partial f}{\\partial x_2}, \\cdots$ 등으로 여러 개가 존재한다. \n",
    "\n",
    "\n",
    "이렇게 스칼라를 벡터로 미분하는 경우에는 결과를 열벡터로 표시한다. 이렇게 만들어진 벡터를 **그레디언트 벡터(gradient vector)**라고 하고 $\\nabla f$로 표기한다.\n",
    "\n",
    "\n",
    "$$\n",
    "\\begin{align}\n",
    "\\nabla f = \n",
    "\\frac{\\partial f}{\\partial {x}} =\n",
    "\\begin{bmatrix}\n",
    "\\dfrac{\\partial f}{\\partial x_1}\\\\\n",
    "\\dfrac{\\partial f}{\\partial x_2}\\\\\n",
    "\\vdots\\\\\n",
    "\\dfrac{\\partial f}{\\partial x_N}\\\\\n",
    "\\end{bmatrix}\n",
    "\\tag{4.4.13}\n",
    "\\end{align}\n",
    "$$"
   ]
  },
  {
   "cell_type": "markdown",
   "metadata": {
    "school_cell_uuid": "1ad5c1f6fcf947f1a554c5350beb65ba"
   },
   "source": [
    "#### 예제\n",
    "\n",
    "다음과 같은 다변수 함수 \n",
    "\n",
    "$$\n",
    "\\begin{align}\n",
    "f(x, y) = 2x^2 + 6xy + 7y^2 - 26x - 54y + 107\n",
    "\\tag{4.4.14}\n",
    "\\end{align}\n",
    "$$\n",
    "\n",
    "에 대한 그레디언트 벡터를 구하면\n",
    "\n",
    "$$\n",
    "\\begin{align}\n",
    "\\nabla f = \n",
    "\\begin{bmatrix}\n",
    "\\dfrac{\\partial f}{\\partial x}\\\\\n",
    "\\dfrac{\\partial f}{\\partial y}\\\\\n",
    "\\end{bmatrix} =\n",
    "\\begin{bmatrix}\n",
    "4x + 6y - 26\\\\\n",
    "6x + 14y - 54\\\\\n",
    "\\end{bmatrix}\n",
    "\\tag{4.4.15}\n",
    "\\end{align}\n",
    "$$\n",
    "\n",
    "가 된다."
   ]
  },
  {
   "cell_type": "markdown",
   "metadata": {
    "bootstrap": {
     "panel": {
      "class": "panel-default"
     }
    },
    "school_cell_uuid": "2044410e8baf42bca5a655e2b21aba59"
   },
   "source": [
    "#### 연습 문제 4.4.1 \n",
    "\n",
    "다음 함수의 그레디언트 벡터를 구하라\n",
    "\n",
    "(1)\n",
    "$$\n",
    "\\begin{align}\n",
    "f(x, y, z) = x + y + z\n",
    "\\tag{4.4.16}\n",
    "\\end{align}\n",
    "$$\n",
    "\n",
    "(2)\n",
    "$$\n",
    "\\begin{align}\n",
    "f(x, y, z) = xyz\n",
    "\\tag{4.4.17}\n",
    "\\end{align}\n",
    "$$"
   ]
  },
  {
   "cell_type": "markdown",
   "metadata": {
    "bootstrap": {
     "panel": {
      "class": "panel-default"
     }
    },
    "school_cell_uuid": "2044410e8baf42bca5a655e2b21aba59"
   },
   "source": [
    "#### 연습 문제 4.4.2\n",
    "\n",
    "그레디언트 벡터 \n",
    "\n",
    "$$\n",
    "\\begin{align}\n",
    "\\nabla f = \n",
    "\\begin{bmatrix}\n",
    "4x + 6y - 26\\\\\n",
    "6x + 14y - 54\\\\\n",
    "\\end{bmatrix}\n",
    "\\tag{4.4.18}\n",
    "\\end{align}\n",
    "$$\n",
    "\n",
    "에 대해서 $x, y$가 다음 위치일 때 그레디언트 벡터의 값을 구하고 평면상에 화살표로 나타내라. \n",
    "\n",
    "(1) $x=7, y=1$\n",
    "\n",
    "(2) $x=2, y=1$"
   ]
  },
  {
   "cell_type": "markdown",
   "metadata": {
    "school_cell_uuid": "23ad2293ab894d9b8cdb406e5295d254"
   },
   "source": [
    "2차원의 경우를 예로 들어 그레디언트 벡터를 표시하는 법을 알아보자. 2개의 입력변수를 가지는 2차원 함수 $f(x, y)$는 평면상에서 **컨투어(contour)플롯**으로 나타낼 수 있다. 그리고 입력 변수 $x, y$ 위치에서의 그레디언트 벡터 $\\frac{\\partial f}{\\partial x}, \\frac{\\partial f}{\\partial y}$는 그 위치를 원점으로 하는 화살표로 표현할 수 있다. 그리고 그레디언트 벡터의 방향은 편미분 성분 $\\frac{\\partial f}{\\partial x}$와 $\\frac{\\partial f}{\\partial y}$의 부호에 의해 결정된다.\n",
    "\n",
    "만약 어떤 위치 $x, y$에서 $x$가 증가할수록 $f$가 커지면 도함수 $\\frac{\\partial f}{\\partial x}$은 양수이다. 반대로 $y$가 증가할수록 $f$가 작아지면 도함수 $\\frac{\\partial f}{\\partial x}$은 음수이다. 벡터는 2차원 평면에서 화살표로 나타낼 수 있다. 가로 성분이 양수이고 세로 성분이 음수인 화살표는 우측 아래를 가리키는 화살이 될 것이다. \n",
    "\n",
    "이렇게 컨투어 플롯 위에 그레디언트 벡터를 화살표로 나타낸 것을 플롯을 **퀴버(quiver)플롯**이라고 한다. 퀴버플롯에서 화살표는 화살표 시작 지점의 그레디언트 벡터를 나타낸다."
   ]
  },
  {
   "cell_type": "markdown",
   "metadata": {},
   "source": [
    "#### 예제\n",
    "\n",
    "\n",
    "다음은 함수\n",
    "\n",
    "$$\n",
    "\\begin{align}\n",
    "2x^2 + 6xy + 7y^2 - 26x - 54y + 107\n",
    "\\tag{4.4.19}\n",
    "\\end{align}\n",
    "$$\n",
    "\n",
    "의 그레디언트 벡터를 표시한 퀴버플롯이다."
   ]
  },
  {
   "cell_type": "code",
   "execution_count": 4,
   "metadata": {},
   "outputs": [],
   "source": [
    "import numpy as np  # 넘파이 패키지 임포트\n",
    "import matplotlib.pylab as plt  # 맷플롯립 패키지 임포트"
   ]
  },
  {
   "cell_type": "code",
   "execution_count": 5,
   "metadata": {},
   "outputs": [
    {
     "name": "stderr",
     "output_type": "stream",
     "text": [
      "/Users/jeeyul/opt/anaconda3/lib/python3.9/site-packages/IPython/core/pylabtools.py:151: UserWarning: Glyph 53300 (\\N{HANGUL SYLLABLE KWI}) missing from current font.\n",
      "  fig.canvas.print_figure(bytes_io, **kw)\n",
      "/Users/jeeyul/opt/anaconda3/lib/python3.9/site-packages/IPython/core/pylabtools.py:151: UserWarning: Glyph 48260 (\\N{HANGUL SYLLABLE BEO}) missing from current font.\n",
      "  fig.canvas.print_figure(bytes_io, **kw)\n",
      "/Users/jeeyul/opt/anaconda3/lib/python3.9/site-packages/IPython/core/pylabtools.py:151: UserWarning: Glyph 54540 (\\N{HANGUL SYLLABLE PEUL}) missing from current font.\n",
      "  fig.canvas.print_figure(bytes_io, **kw)\n",
      "/Users/jeeyul/opt/anaconda3/lib/python3.9/site-packages/IPython/core/pylabtools.py:151: UserWarning: Glyph 47215 (\\N{HANGUL SYLLABLE ROS}) missing from current font.\n",
      "  fig.canvas.print_figure(bytes_io, **kw)\n"
     ]
    },
    {
     "data": {
      "image/png": "[encoded data removed]",
      "text/plain": [
       "<Figure size 720x360 with 1 Axes>"
      ]
     },
     "metadata": {
      "needs_background": "light"
     },
     "output_type": "display_data"
    }
   ],
   "source": [
    "def f(x, y):\n",
    "    return 2 * x**2 + 6 * x * y + 7 * y**2 - 26 * x - 54 * y + 107\n",
    "\n",
    "xx = np.linspace(1, 16, 100)\n",
    "yy = np.linspace(-3, 6, 90)\n",
    "X, Y = np.meshgrid(xx, yy)\n",
    "Z = f(X, Y)\n",
    "\n",
    "\n",
    "def gx(x, y):\n",
    "    return 4 * x + 6 * y - 26\n",
    "\n",
    "def gy(x, y):\n",
    "    return 6 * x + 14 * y - 54\n",
    "\n",
    "xx2 = np.linspace(1, 16, 15)\n",
    "yy2 = np.linspace(-3, 6, 9)\n",
    "X2, Y2 = np.meshgrid(xx2, yy2)\n",
    "GX = gx(X2, Y2)\n",
    "GY = gy(X2, Y2)\n",
    "plt.figure(figsize=(10, 5))\n",
    "plt.contour(X, Y, Z, levels=np.logspace(0, 3, 10))\n",
    "plt.quiver(X2, Y2, GX, GY, color='blue', scale=400, minshaft=2)\n",
    "\n",
    "plt.xlabel('x')\n",
    "plt.ylabel('y')\n",
    "plt.title(\"퀴버 플롯(quiver plot)\")\n",
    "plt.show()"
   ]
  },
  {
   "cell_type": "markdown",
   "metadata": {
    "bootstrap": {
     "panel": {
      "class": "panel-default"
     }
    },
    "school_cell_uuid": "2044410e8baf42bca5a655e2b21aba59"
   },
   "source": [
    "#### 연습 문제 4.4.3\n",
    "\n",
    "함수\n",
    "\n",
    "$$\n",
    "\\begin{align}\n",
    "2x^2 + 6xy + 7y^2 - 26x - 54y + 107\n",
    "\\tag{4.4.20}\n",
    "\\end{align}\n",
    "$$\n",
    "\n",
    "로 표현되는 지형을 상상하라. 이 지형의 (14, 4) 지점에 공을 두었다면 어떠한 경로로 공이 움직일지 경로를 그려라."
   ]
  },
  {
   "cell_type": "markdown",
   "metadata": {},
   "source": [
    "\n",
    "퀴버플롯에서 그레디언트 벡터는 다음과 같은 특징이 있다.\n",
    "\n",
    "1. 그레디언트 벡터의 크기는 기울기를 의미한다. 즉 벡터의 크기가 클수록 함수 곡면의 기울기가 커진다.\n",
    "2. 그레디언트 벡터의 방향은 함수 곡면의 기울기가 가장 큰 방향, 즉 단위 길이당 함수값(높이)이 가장 크게 증가하는 방향을 가리킨다.\n",
    "3. 그레디언트 벡터의 방향은 등고선(isoline)의 방향과 직교한다.\n"
   ]
  },
  {
   "cell_type": "markdown",
   "metadata": {},
   "source": [
    "어떤 점 $x_0$에서 다른 점 $x$로 이동하면서 함수 값이 얼마나 변하는지는 테일러 전개를 써서 근사할 수 있다.\n",
    "\n",
    "$$ \n",
    "\\begin{align}\n",
    "f(x) - f(x_0) = \\Delta f \\approx  \\nabla f(x_0)^T (x - x_0) \n",
    "\\tag{4.4.21}\n",
    "\\end{align}\n",
    "$$\n",
    "\n",
    "변화의 방향 $x - x_0$가 그레디언트 벡터와 같은 방향일 때 $\\Delta f$가 가장 커지는 것을 알 수 있다. \n",
    "\n",
    "등고선은 $f(x)$의 값이 일정한 $x$의 집합이므로 다음과 같은 방정식으로 표현할 수 있다.\n",
    "\n",
    "$$\n",
    "\\begin{align}\n",
    "f(x) = f(x_0)\n",
    "\\tag{4.4.22}\n",
    "\\end{align}\n",
    "$$\n",
    "\n",
    "또는 \n",
    "\n",
    "$$\n",
    "\\begin{align}\n",
    "f(x) - f(x_0) = 0\n",
    "\\tag{4.4.23}\n",
    "\\end{align}\n",
    "$$\n",
    "\n",
    "같은 등고선 위의 다른 점 $x_1$를 향해 움직이는 등고선 방향의 움직임은 $x_1 - x_0$이고 $x_0$, $x_1$ 모두 같은 등고선 위의 점이므로 $f(x_0) = f(x_1)$이다. 따라서 테일러 전개로부터 \n",
    "\n",
    "$$\n",
    "\\begin{align}\n",
    "\\nabla f(x_0)^T (x_1 - x_0) = f(x_1) - f(x_0) = 0\n",
    "\\tag{4.4.24}\n",
    "\\end{align}\n",
    "$$\n",
    "\n",
    "등고선 방향 $x_1 - x_0$과 $\\nabla f(x_0)$이 직교한다는 것을 알 수 있다."
   ]
  },
  {
   "cell_type": "markdown",
   "metadata": {
    "school_cell_uuid": "87848a58d0074445b25b8fdbcc0c824e"
   },
   "source": [
    "### 행렬미분법칙"
   ]
  },
  {
   "cell_type": "markdown",
   "metadata": {
    "school_cell_uuid": "c98a4372bf1a45469d93dbdfa7defa82"
   },
   "source": [
    "다변수 함수를 미분하여 그레디언트 벡터를 구할 때는 다음 두가지 법칙이 유용하게 쓰인다."
   ]
  },
  {
   "cell_type": "markdown",
   "metadata": {
    "school_cell_uuid": "9ea4aca643f0422fbe9c923f9cb11bea"
   },
   "source": [
    "### 행렬미분법칙 1: 선형 모형\n",
    "\n",
    "선형 모형을 미분하면 그레디언트 벡터는 가중치 벡터이다."
   ]
  },
  {
   "cell_type": "markdown",
   "metadata": {
    "school_cell_uuid": "9ead859f25a441d3811ba7420925b867"
   },
   "source": [
    "\n",
    "$$ \n",
    "\\begin{align}\n",
    "f(x) = w^T x \n",
    "\\tag{4.4.25}\n",
    "\\end{align}\n",
    "$$\n",
    "\n",
    "\n",
    "$$ \n",
    "\\begin{align}\n",
    "\\nabla f = \\frac{\\partial {w}^{T}{x}}{\\partial {x}} = \\frac{\\partial {x}^{T}{w}}{\\partial {x}} = {w} \n",
    "\\tag{4.4.26}\n",
    "\\end{align}\n",
    "$$ "
   ]
  },
  {
   "cell_type": "markdown",
   "metadata": {
    "school_cell_uuid": "2d55ec3e4800459998ab0f607285f0da"
   },
   "source": [
    "(증명)\n",
    "\n",
    "$$ \n",
    "\\begin{align}\n",
    "\\dfrac{\\partial ({w}^T {x})}{\\partial {x}}=\n",
    "\\begin{bmatrix}\n",
    "\\boxed{\\dfrac{\\partial ({w}^T {x})}{\\partial x_1}} \\\\\n",
    "\\boxed{\\dfrac{\\partial ({w}^T {x})}{\\partial x_2}} \\\\\n",
    "\\vdots \\\\\n",
    "\\boxed{\\dfrac{\\partial ({w}^T {x})}{\\partial x_N}} \\\\\n",
    "\\end{bmatrix} =\n",
    "\\begin{bmatrix}\n",
    "\\boxed{\\dfrac{\\partial (w_1 x_1 + \\cancel{w_2 x_2} + \\cdots + \\cancel{w_N x_N})}{\\partial x_1} \\mathstrut} \\\\\n",
    "\\boxed{\\dfrac{\\partial (\\cancel{w_1 x_1} + w_2 x_2 + \\cdots + \\cancel{w_N x_N})}{\\partial x_2} \\mathstrut} \\\\\n",
    "\\vdots \\\\\n",
    "\\boxed{\\dfrac{\\partial (\\cancel{w_1 x_1} + \\cancel{w_2 x_2} + \\cdots + w_N x_N)}{\\partial x_N} \\mathstrut} \\\\\n",
    "\\end{bmatrix} =\n",
    "\\begin{bmatrix}\n",
    "w_1 \\\\\n",
    "w_2 \\\\\n",
    "\\vdots \\\\\n",
    "w_N \\\\\n",
    "\\end{bmatrix}\n",
    "= {w} \n",
    "\\tag{4.4.27}\n",
    "\\end{align}\n",
    "$$"
   ]
  },
  {
   "cell_type": "markdown",
   "metadata": {
    "school_cell_uuid": "9ea4aca643f0422fbe9c923f9cb11bea"
   },
   "source": [
    "### 행렬미분법칙 2: 이차 형식\n",
    "\n",
    "이차 형식을 미분하면 행렬과 벡터의 곱으로 나타난다."
   ]
  },
  {
   "cell_type": "markdown",
   "metadata": {
    "school_cell_uuid": "55559cd1f2364bc5a13b6d5731b3bb04"
   },
   "source": [
    "$$\n",
    "\\begin{align}\n",
    "f(x) = x^T A x\n",
    "\\tag{4.4.28}\n",
    "\\end{align}\n",
    "$$\n",
    "\n",
    "$$ \n",
    "\\begin{align}\n",
    "\\nabla f(x) = \\frac{\\partial {x}^{T}{A}{x}}{\\partial {x}} = ({A} + {A}^{T}){x}\n",
    "\\tag{4.4.29}\n",
    "\\end{align}\n",
    "$$"
   ]
  },
  {
   "cell_type": "markdown",
   "metadata": {
    "school_cell_uuid": "dd4ae18708a14e358e064b9df98f80f9"
   },
   "source": [
    "(증명)\n",
    "\n",
    "\n",
    "$$ \n",
    "\\begin{align}\n",
    "\\begin{aligned}\n",
    "\\dfrac{\\partial ({x}^{T}{A}{x})}{\\partial {x}}\n",
    "&=\n",
    "\\begin{bmatrix}\n",
    "\\boxed{\\dfrac{\\partial ({x}^{T}{A}{x})}{\\partial x_1}\\mathstrut} \\\\\n",
    "\\boxed{\\dfrac{\\partial ({x}^{T}{A}{x})}{\\partial x_2}\\mathstrut}  \\\\\n",
    "\\vdots \\\\\n",
    "\\boxed{\\dfrac{\\partial ({x}^{T}{A}{x})}{\\partial x_N}\\mathstrut}  \\\\\n",
    "\\end{bmatrix} \\\\\n",
    "&=\n",
    "\\begin{bmatrix}\n",
    "\\boxed{\\dfrac{\\partial (\\sum_{i=1}^{N} \\sum_{j=1}^{N} a_{ij} x_i x_j)}{\\partial x_1}\\mathstrut} \\\\\n",
    "\\boxed{\\dfrac{\\partial (\\sum_{i=1}^{N} \\sum_{j=1}^{N} a_{ij} x_i x_j)}{\\partial x_2}\\mathstrut} \\\\\n",
    "\\vdots \\\\\n",
    "\\boxed{\\dfrac{\\partial (\\sum_{i=1}^{N} \\sum_{j=1}^{N} a_{ij} x_i x_j)}{\\partial x_N}\\mathstrut} \\\\\n",
    "\\end{bmatrix} \\\\\n",
    "&=\n",
    "\\begin{bmatrix}\n",
    "\\boxed{\\dfrac{\\partial \n",
    "\\left(\n",
    "\\begin{matrix}\n",
    "a_{11}x_1x_1 &+& a_{12}x_1x_2          &+& \\cdots &+& a_{1N}x_1x_N          &+ \\\\\n",
    "a_{21}x_2x_1 &+& \\cancel{a_{22}x_2x_2} &+& \\cdots &+& \\cancel{a_{2N}x_2x_N} &+ \\\\\n",
    "             & &    \\cdots  \\\\\n",
    "a_{N1}x_Nx_1 &+& \\cancel{a_{N2}x_Nx_2} &+& \\cdots &+& \\cancel{a_{NN}x_Nx_N} &\n",
    "\\end{matrix}\n",
    "\\right)}{\\partial x_1} \\mathstrut} \\\\\n",
    "\\boxed{\\dfrac{\\partial \n",
    "\\left(\n",
    "\\begin{matrix}\n",
    "\\cancel{a_{11}x_1x_1} &+& a_{12}x_1x_2 &+& \\cdots &+& \\cancel{a_{1N}x_1x_N} &+ \\\\\n",
    "        a_{21}x_2x_1  &+& a_{22}x_2x_2 &+& \\cdots &+&         a_{2N}x_2x_N  &+ \\\\\n",
    "                      & &    \\cdots  \\\\\n",
    "\\cancel{a_{N1}x_Nx_1} &+& a_{N2}x_Nx_2 &+& \\cdots &+& \\cancel{a_{NN}x_Nx_N} &\n",
    "\\end{matrix}\n",
    "\\right)}{\\partial x_2}\\mathstrut} \\\\\n",
    "\\vdots \\\\\n",
    "\\end{bmatrix} \n",
    "\\\\\n",
    "&=\n",
    "\\begin{bmatrix}\n",
    "\\boxed{\\begin{matrix}\n",
    "2a_{11}x_1 &+& a_{12}x_2 &+& \\cdots &+& a_{1N}x_N &+& \\\\\n",
    " a_{21}x_2 &+& 0         &+& \\cdots &+& 0         &+& \\\\\n",
    "           & &           &   \\cdots & &           & & \\\\\n",
    "a_{N1}x_N  &+& 0         &+& \\cdots &+& 0         & & \n",
    "\\end{matrix}  \\mathstrut} \\\\\n",
    "\\boxed{\\begin{matrix}\n",
    "0         &+&  a_{12}x_2 &+& \\cdots &+& 0         &+& \\\\\n",
    "a_{21}x_1 &+& 2a_{22}x_2 &+& \\cdots &+& a_{2N}x_N &+& \\\\\n",
    "          & & \\cdots     & &        & &           & & \\\\\n",
    "0         &+&  a_{N2}x_N &+& \\cdots &+& 0         & &\n",
    "\\end{matrix}  \\mathstrut} \\\\\n",
    "\\vdots \\\\\n",
    "\\end{bmatrix} \\\\\n",
    "&=\n",
    "\\begin{bmatrix}\n",
    "\\boxed{\\sum_{i=1}^{N} a_{1i} x_i + \\sum_{i=1}^{N} a_{i1} x_i} \\\\\n",
    "\\boxed{\\sum_{i=1}^{N} a_{2i} x_i + \\sum_{i=1}^{N} a_{i2} x_i} \\\\\n",
    "\\vdots \\\\\n",
    "\\boxed{\\sum_{i=1}^{N} a_{Ni} x_i + \\sum_{i=1}^{N} a_{iN} x_i} \\\\\n",
    "\\end{bmatrix} \\\\ \\\\\n",
    "&=\n",
    "\\begin{bmatrix}\n",
    "\\boxed{\\sum_{i=1}^{N} a_{1i} x_i} \\\\\n",
    "\\boxed{\\sum_{i=1}^{N} a_{2i} x_i} \\\\\n",
    "\\vdots \\\\\n",
    "\\boxed{\\sum_{i=1}^{N} a_{Ni} x_i} \\\\\n",
    "\\end{bmatrix}\n",
    "+\n",
    "\\begin{bmatrix}\n",
    "\\boxed{\\sum_{i=1}^{N} a_{i1} x_i} \\\\\n",
    "\\boxed{\\sum_{i=1}^{N} a_{i2} x_i} \\\\\n",
    "\\vdots \\\\\n",
    "\\boxed{\\sum_{i=1}^{N} a_{iN} x_i} \\\\\n",
    "\\end{bmatrix} \\\\ \\\\\n",
    "&=\n",
    "{A} {x}  + {A}^T {x} \n",
    "=\n",
    "({A} + {A}^T){x} \n",
    "\\end{aligned}\n",
    "\\tag{4.4.30}\n",
    "\\end{align}\n",
    "$$\n",
    "\n",
    "\n"
   ]
  },
  {
   "cell_type": "markdown",
   "metadata": {
    "school_cell_uuid": "d975fb18435f4f54b84f5e2b71bd4591"
   },
   "source": [
    "위의 두 가지 경우는 1차 다항식과 2차 다항식에 대한 스칼라 미분과 비슷하다. 두 경우를 비교해 보면 이 공식을 외우는데 도움이 된다.\n",
    "\n",
    "| 스칼라 미분                        | 벡터/행렬미분                           |\n",
    "|-|-|\n",
    "| $ax \\;\\; \\rightarrow \\;\\; a$     | $w^Tx \\;\\; \\rightarrow \\;\\; w$         |\n",
    "| $ax^2 \\;\\; \\rightarrow \\;\\; 2ax$  | $x^TAx \\;\\; \\rightarrow \\;\\; (A+A^T)x$ |"
   ]
  },
  {
   "cell_type": "markdown",
   "metadata": {
    "school_cell_uuid": "f4880c1bb8764fb4af485961991acdf9"
   },
   "source": [
    "### 벡터를 스칼라로 미분하는 경우"
   ]
  },
  {
   "cell_type": "markdown",
   "metadata": {
    "school_cell_uuid": "403ab3522f4b4a169eea5b8812efef1b"
   },
   "source": [
    "벡터\n",
    "\n",
    "$$\n",
    "\\begin{align}\n",
    "{f}(x) =\n",
    "\\begin{bmatrix}\n",
    "f_1 \\\\\n",
    "f_2 \\\\\n",
    "\\vdots\\\\\n",
    "f_M \\\\\n",
    "\\end{bmatrix}\n",
    "\\tag{4.4.35}\n",
    "\\end{align}\n",
    "$$\n",
    "\n",
    "를 스칼라 $x$로 미분하는 경우에는 결과를 행 벡터로 표시한다.\n",
    "\n",
    "$$\n",
    "\\begin{align}\n",
    "\\frac{\\partial {f}}{\\partial x} = \n",
    "\\begin{bmatrix}\n",
    "\\dfrac{\\partial f_1}{\\partial x} &\n",
    "\\dfrac{\\partial f_2}{\\partial x} &\n",
    "\\cdots &\n",
    "\\dfrac{\\partial f_M}{\\partial x}\n",
    "\\end{bmatrix}\n",
    "\\tag{4.4.36}\n",
    "\\end{align}\n",
    "$$"
   ]
  },
  {
   "cell_type": "markdown",
   "metadata": {
    "school_cell_uuid": "d1089bd274c342b4894a841fe71e2b18"
   },
   "source": [
    "### 벡터를 벡터로 미분하는 경우"
   ]
  },
  {
   "cell_type": "markdown",
   "metadata": {
    "school_cell_uuid": "6c972ee4951a4029a5410382ba884f74"
   },
   "source": [
    "벡터 ${x}$를 입력받아 벡터를 출력하는 함수 $f(x)$를 생각하자.\n",
    "\n",
    "벡터를 벡터로 미분하면 미분을 당하는 벡터의 원소가 여러개($i=1, \\dots, N$)이고 미분을 하는 벡터의 원소도 여러개($j=1, \\dots, M$)이므로 미분의 결과로 나온 도함수는 2차원 배열 즉, 행렬이 된다.\n",
    "\n",
    "$$\n",
    "\\begin{align}\n",
    "\\dfrac{\\partial {f}}{\\partial {x}}\n",
    "= \n",
    "\\begin{bmatrix}\n",
    "\\dfrac{\\partial f_1}{\\partial {x}} &\n",
    "\\dfrac{\\partial f_2}{\\partial {x}} &\n",
    "\\cdots                             & \n",
    "\\dfrac{\\partial f_N}{\\partial {x}}\n",
    "\\end{bmatrix}\n",
    "=\n",
    "\\begin{bmatrix}\n",
    "\\dfrac{\\partial {f}}{\\partial x_1} \\\\\n",
    "\\dfrac{\\partial {f}}{\\partial x_2} \\\\\n",
    "\\vdots                             \\\\\n",
    "\\dfrac{\\partial {f}}{\\partial x_M}\n",
    "\\end{bmatrix}\n",
    "= \n",
    "\\begin{bmatrix}\n",
    "\\dfrac{\\partial f_1}{\\partial x_1} & \\dfrac{\\partial f_2}{\\partial x_1} & \\cdots & \\dfrac{\\partial f_N}{\\partial x_1} \\\\\n",
    "\\dfrac{\\partial f_1}{\\partial x_2} & \\dfrac{\\partial f_2}{\\partial x_2} & \\cdots & \\dfrac{\\partial f_N}{\\partial x_2} \\\\\n",
    "\\vdots & \\vdots & \\ddots & \\vdots \\\\\n",
    "\\dfrac{\\partial f_1}{\\partial x_M} & \\dfrac{\\partial f_2}{\\partial x_M} & \\cdots & \\dfrac{\\partial f_N}{\\partial x_M} \\\\\n",
    "\\end{bmatrix}\n",
    "\\tag{4.4.37}\n",
    "\\end{align}\n",
    "$$"
   ]
  },
  {
   "cell_type": "markdown",
   "metadata": {
    "school_cell_uuid": "9ea4aca643f0422fbe9c923f9cb11bea"
   },
   "source": [
    "### 행렬미분법칙 3: 행렬과 벡터의 곱의 미분\n",
    "\n",
    "행렬 $A$와 벡터 $x$의 곱 $Ax$를 벡터 $x$로 미분하면 행렬 $A^T$가 된다.\n",
    "\n",
    "$$\n",
    "\\begin{align}\n",
    "f(x) = Ax\n",
    "\\tag{4.4.38}\n",
    "\\end{align}\n",
    "$$\n",
    "\n",
    "\n",
    "$$ \n",
    "\\begin{align}\n",
    "\\nabla f(x) = \\dfrac{\\partial ({Ax})}{\\partial {x}} = A^T \n",
    "\\tag{4.4.39}\n",
    "\\end{align}\n",
    "$$"
   ]
  },
  {
   "cell_type": "markdown",
   "metadata": {
    "school_cell_uuid": "8a19a05528d94f348193e039e7cf68eb"
   },
   "source": [
    "(증명)\n",
    "\n",
    "$$\n",
    "\\begin{align}\n",
    "{Ax} = {c_1}x_1 + {c_2}x_2 + \\cdots + {c_M}x_M\n",
    "\\tag{4.4.40}\n",
    "\\end{align}\n",
    "$$\n",
    "\n",
    "$$\n",
    "\\begin{align}\n",
    "\\dfrac{\\partial ({Ax})}{\\partial {x}}\n",
    "=\n",
    "\\begin{bmatrix}\n",
    "\\dfrac{\\partial ({Ax})}{\\partial x_1} \\\\\n",
    "\\dfrac{\\partial ({Ax})}{\\partial x_2} \\\\\n",
    "\\cdots \\\\\n",
    "\\dfrac{\\partial ({Ax})}{\\partial x_M}\n",
    "\\end{bmatrix} \n",
    "=\n",
    "\\begin{bmatrix}\n",
    "\\dfrac{\\partial ({c_1}x_1 + {c_2}x_2 + \\cdots + {c_M}x_M)^T}{\\partial x_1} \\\\\n",
    "\\dfrac{\\partial ({c_1}x_1 + {c_2}x_2 + \\cdots + {c_M}x_M)^T}{\\partial x_2} \\\\\n",
    "\\cdots \\\\\n",
    "\\dfrac{\\partial ({c_1}x_1 + {c_2}x_2 + \\cdots + {c_M}x_M)^T}{\\partial x_M}\n",
    "\\end{bmatrix} \n",
    "=\n",
    "\\begin{bmatrix}\n",
    "{c_1}^T \\\\\n",
    "{c_2}^T \\\\\n",
    "\\cdots \\\\\n",
    "{c_M}^T\n",
    "\\end{bmatrix} \n",
    "= A^T\n",
    "\\tag{4.4.41}\n",
    "\\end{align}\n",
    "$$"
   ]
  },
  {
   "cell_type": "markdown",
   "metadata": {
    "school_cell_uuid": "2141b768c0474c4691a80f1cb20a48cf"
   },
   "source": [
    "함수의 출력변수와 입력변수가 모두 벡터(다차원) 데이터인 경우에는 입력변수 각각과 출력변수 각각의 조합에 대해 모두 미분이 존재한다. 따라서 도함수는 행렬 형태가 된다. 이렇게 만들어진 도함수의 행렬을 **자코비안 행렬(Jacobian matrix)** 이라고 한다. 자코비안 행렬은 벡터함수를 벡터변수로 미분해서 생기는 행렬의 **전치행렬**이다. 따라서 행/열의 방향이 다르다는 점에 유의한다.\n",
    "\n",
    "\n",
    "$$\n",
    "\\begin{align}\n",
    "Jf(x) = J = \\left(\\frac{\\partial  f}{\\partial  x}\\right)^T = \n",
    "\\begin{bmatrix}\n",
    "\\left(\\dfrac{\\partial f_1}{\\partial x}\\right)^T \\\\ \\vdots \\\\ \\left(\\dfrac{\\partial f_M}{\\partial x}\\right)^T \n",
    "\\end{bmatrix} =\n",
    "\\begin{bmatrix}\n",
    "\\nabla f_1^T \\\\  \\vdots \\\\ \\nabla f_M^T \\\\ \n",
    "\\end{bmatrix} =\n",
    "\\begin{bmatrix}\n",
    "\\dfrac{\\partial f_1}{\\partial x_1} & \\cdots & \\dfrac{\\partial f_1}{\\partial x_N}\\\\\n",
    "\\vdots & \\ddots & \\vdots\\\\\n",
    "\\dfrac{\\partial f_M}{\\partial x_1} & \\cdots & \\dfrac{\\partial f_M}{\\partial x_N} \n",
    "\\end{bmatrix}\n",
    "\\tag{4.4.42}\n",
    "\\end{align}\n",
    "$$"
   ]
  },
  {
   "cell_type": "markdown",
   "metadata": {
    "bootstrap": {
     "panel": {
      "class": "panel-default"
     }
    },
    "school_cell_uuid": "2044410e8baf42bca5a655e2b21aba59"
   },
   "source": [
    "#### 연습 문제 4.4.4\n",
    "\n",
    "다음 함수의 자코비안 행렬을 구하라\n",
    "\n",
    "$$ \n",
    "\\begin{align}\n",
    "f(x) = \n",
    "\\begin{bmatrix}\n",
    "\\displaystyle\\sum_{i=1}^3 x_i \\\\\n",
    "\\displaystyle\\prod_{i=1}^3 x_i \n",
    "\\end{bmatrix}\n",
    "\\tag{4.4.43}\n",
    "\\end{align}\n",
    "$$"
   ]
  },
  {
   "cell_type": "markdown",
   "metadata": {
    "school_cell_uuid": "33af7e03908f4e6cad1aa51342722e5e"
   },
   "source": [
    "다변수 함수의 2차 도함수는 그레디언트 벡터를 입력변수 벡터로 미분한 것으로 **헤시안 행렬(Hessian matrix)**이라고 한다. \n",
    "\n",
    "헤시안 행렬은 그레디언트 벡터의 자코비안 행렬의 전치 행렬로 정의한다.\n",
    "\n",
    "$$\n",
    "\\begin{align}\n",
    "Hf(x) = H = J(\\nabla f(x))^T\n",
    "\\tag{4.4.44}\n",
    "\\end{align}\n",
    "$$\n",
    "\n",
    "풀어쓰면 다음과 같다.\n",
    "\n",
    "$$\n",
    "\\begin{align}\n",
    "H_{ij} = \\dfrac{\\partial^2 f}{\\partial x_i\\,\\partial x_j}\n",
    "\\tag{4.4.45}\n",
    "\\end{align}\n",
    "$$\n",
    "\n",
    "즉,\n",
    "\n",
    "$$\n",
    "\\begin{align}\n",
    "H = \\begin{bmatrix}\n",
    "  \\dfrac{\\partial^2 f}{\\partial x_1^2} & \\dfrac{\\partial^2 f}{\\partial x_1\\,\\partial x_2} & \\cdots & \\dfrac{\\partial^2 f}{\\partial x_1\\,\\partial x_N} \\\\\n",
    "  \\dfrac{\\partial^2 f}{\\partial x_2\\,\\partial x_1} & \\dfrac{\\partial^2 f}{\\partial x_2^2} & \\cdots & \\dfrac{\\partial^2 f}{\\partial x_2\\,\\partial x_N} \\\\\n",
    "  \\vdots & \\vdots & \\ddots & \\vdots \\\\\n",
    "  \\dfrac{\\partial^2 f}{\\partial x_N\\,\\partial x_1} & \\dfrac{\\partial^2 f}{\\partial x_N\\,\\partial x_2} & \\cdots & \\dfrac{\\partial^2 f}{\\partial x_N^2}\n",
    "\\end{bmatrix}\n",
    "\\tag{4.4.46}\n",
    "\\end{align}\n",
    "$$\n",
    "\n",
    "\n",
    "함수가 연속이고 미분가능한 함수라면 헤시안 행렬은 대칭행렬이 된다."
   ]
  },
  {
   "cell_type": "markdown",
   "metadata": {
    "bootstrap": {
     "panel": {
      "class": "panel-default"
     }
    },
    "school_cell_uuid": "2044410e8baf42bca5a655e2b21aba59"
   },
   "source": [
    "#### 연습 문제 4.4.5\n",
    "\n",
    "다음 함수의 헤시안 행렬을 구하라\n",
    "\n",
    "$$ \n",
    "\\begin{align}\n",
    "f(x) = \\sum_{i=1}^3 x_i^2\n",
    "\\tag{4.4.47}\n",
    "\\end{align}\n",
    "$$"
   ]
  },
  {
   "cell_type": "markdown",
   "metadata": {
    "school_cell_uuid": "9287af649ac64d8fb379dc808c2c64e9"
   },
   "source": [
    "### 스칼라를 행렬로 미분"
   ]
  },
  {
   "cell_type": "markdown",
   "metadata": {
    "school_cell_uuid": "aef9e18347eb455b901ef0b874644340"
   },
   "source": [
    "출력변수 $f$가 스칼라값이고 입력변수 $X$가 행렬인 경우에는 도함수 행렬의 모양이 입력변수 행렬 $X$와 같다. \n",
    "\n",
    "$$\n",
    "\\begin{align}\n",
    "\\dfrac{\\partial f}{\\partial {X}} =\n",
    "\\begin{bmatrix}\n",
    "\\dfrac{\\partial f}{\\partial x_{1,1}} & \\dfrac{\\partial f}{\\partial x_{1,2}} & \\cdots & \\dfrac{\\partial f}{\\partial x_{1,N}}\\\\\n",
    "\\dfrac{\\partial f}{\\partial x_{2,1}} & \\dfrac{\\partial f}{\\partial x_{2,2}} & \\cdots & \\dfrac{\\partial f}{\\partial x_{2,N}}\\\\\n",
    "\\vdots & \\vdots & \\ddots & \\vdots\\\\\n",
    "\\dfrac{\\partial f}{\\partial x_{M,1}} & \\dfrac{\\partial f}{\\partial x_{M,2}} & \\cdots & \\dfrac{\\partial f}{\\partial x_{M,N}}\\\\\n",
    "\\end{bmatrix}\n",
    "\\tag{4.4.48}\n",
    "\\end{align}\n",
    "$$"
   ]
  },
  {
   "cell_type": "markdown",
   "metadata": {
    "school_cell_uuid": "0eebe2355ff14c9ebb941825ba3943f2"
   },
   "source": [
    "### 행렬미분법칙 4: 행렬 곱의 대각성분\n",
    "\n",
    "두 정방행렬을 곱해서 만들어진 행렬의 대각성분(trace)는 스칼라이다. 이 스칼라를 뒤의 행렬로 미분하면 앞의 행렬의 전치행렬이 나온다."
   ]
  },
  {
   "cell_type": "markdown",
   "metadata": {
    "school_cell_uuid": "f281e182396245869a78f2d98abbfe13"
   },
   "source": [
    "$$\n",
    "\\begin{align}\n",
    "f(X) = \\text{tr} ({W}{X})\n",
    "\\tag{4.4.49}\n",
    "\\end{align}\n",
    "$$\n",
    "\n",
    "\n",
    "$$\n",
    "\\begin{align}\n",
    "{W} \\in {R}^{N \\times N}, {X} \\in {R}^{N \\times N}\n",
    "\\tag{4.4.50}\n",
    "\\end{align}\n",
    "$$\n",
    "\n",
    "\n",
    "$$ \n",
    "\\begin{align}\n",
    "\\dfrac{\\partial f}{\\partial X} =\n",
    "\\dfrac{\\partial \\, \\text{tr} ({W}{X})}{\\partial {X}} = {W}^T\n",
    "\\tag{4.4.51}\n",
    "\\end{align}\n",
    "$$\n"
   ]
  },
  {
   "cell_type": "markdown",
   "metadata": {
    "school_cell_uuid": "e1b3905bcbff4cea9cd38c487400580a"
   },
   "source": [
    "(증명)\n",
    "\n",
    "$$\n",
    "\\begin{align}\n",
    "\\text{tr}({W}{X}) = \\sum_{i=1}^N \\sum_{j=1}^N w_{ji} x_{ij}\n",
    "\\tag{4.4.52}\n",
    "\\end{align}\n",
    "$$\n",
    "\n",
    "$$\n",
    "\\begin{align}\n",
    "\\dfrac{\\partial \\text{tr} ({W}{X})}{\\partial x_{ij}} = w_{ji}\n",
    "\\tag{4.4.53}\n",
    "\\end{align}\n",
    "$$ "
   ]
  },
  {
   "cell_type": "markdown",
   "metadata": {
    "school_cell_uuid": "0eebe2355ff14c9ebb941825ba3943f2"
   },
   "source": [
    "### 행렬미분법칙 5: 행렬식의 로그\n",
    "\n",
    "행렬식(determinant)은 스칼라값이고 이 값의 로그 값도 스칼라이다. 이 값을 원래의 행렬로 미분하면 원래 행렬의 역행렬의 전치 행렬이 된다."
   ]
  },
  {
   "cell_type": "markdown",
   "metadata": {
    "school_cell_uuid": "829d7355e5e346f4a672246b115f8ff1"
   },
   "source": [
    "$$\n",
    "\\begin{align}\n",
    "f(X) = \\log | {X} |\n",
    "\\tag{4.4.54}\n",
    "\\end{align}\n",
    "$$\n",
    "\n",
    "$$ \n",
    "\\begin{align}\n",
    "\\dfrac{\\partial f}{\\partial X} = \\dfrac{\\partial \\log | {X} | }{\\partial {X}} = ({X}^{-1})^T \n",
    "\\tag{4.4.55}\n",
    "\\end{align}\n",
    "$$"
   ]
  },
  {
   "cell_type": "markdown",
   "metadata": {
    "school_cell_uuid": "9e4a483755d347f88df0f884c5f9b00f"
   },
   "source": [
    "(증명)\n",
    "\n",
    "행렬식의 정의에서\n",
    "\n",
    "$$\n",
    "\\begin{align}\n",
    "\\dfrac{\\partial}{\\partial x_{i,j}} \\vert X \\vert = C_{i,j}\n",
    "\\tag{4.4.56}\n",
    "\\end{align}\n",
    "$$\n",
    "\n",
    "행렬식과 역행렬의 관계에서 \n",
    "\n",
    "$$\n",
    "\\begin{align}\n",
    "\\dfrac{\\partial}{\\partial X} \\vert X \\vert = C = | X | (X^{-1})^T\n",
    "\\tag{4.4.57}\n",
    "\\end{align}\n",
    "$$\n",
    "\n",
    "로그 함수 공식에 대입하면 \n",
    "\n",
    "$$\n",
    "\\begin{align}\n",
    "\\dfrac{d}{dx} \\log f(x) = \\dfrac{f'(x)}{f(x)} = \\dfrac{\\vert X \\vert (X^{-1})^T}{\\vert X \\vert} = (X^{-1})^T\n",
    "\\tag{4.4.58}\n",
    "\\end{align}\n",
    "$$"
   ]
  }
 ],
 "metadata": {
  "celltoolbar": "Edit Metadata",
  "kernelspec": {
   "display_name": "Python 3 (ipykernel)",
   "language": "python",
   "name": "python3"
  },
  "language_info": {
   "codemirror_mode": {
    "name": "ipython",
    "version": 3
   },
   "file_extension": ".py",
   "mimetype": "text/x-python",
   "name": "python",
   "nbconvert_exporter": "python",
   "pygments_lexer": "ipython3",
   "version": "3.9.12"
  },
  "pycharm": {
   "stem_cell": {
    "cell_type": "raw",
    "metadata": {
     "collapsed": false
    },
    "source": []
   }
  },
  "toc": {
   "base_numbering": 1,
   "nav_menu": {},
   "number_sections": false,
   "sideBar": true,
   "skip_h1_title": false,
   "title_cell": "Table of Contents",
   "title_sidebar": "Contents",
   "toc_cell": false,
   "toc_position": {},
   "toc_section_display": true,
   "toc_window_display": false
  }
 },
 "nbformat": 4,
 "nbformat_minor": 4
}
